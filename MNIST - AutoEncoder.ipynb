{
  "nbformat": 4,
  "nbformat_minor": 0,
  "metadata": {
    "colab": {
      "provenance": [],
      "machine_shape": "hm"
    },
    "kernelspec": {
      "name": "python3",
      "display_name": "Python 3"
    },
    "language_info": {
      "name": "python"
    },
    "accelerator": "GPU"
  },
  "cells": [
    {
      "cell_type": "code",
      "metadata": {
        "id": "dW55iVpjQOCN"
      },
      "source": [
        "import torch\n",
        "from torch.distributions import Normal\n",
        "import torchvision\n",
        "import numpy as np\n",
        "import matplotlib.pyplot as plt\n",
        "import torch.nn as nn\n",
        "import torch.optim as optim\n",
        "import torch.nn.functional as F\n",
        "from torchvision.utils import make_grid\n",
        "import torchvision.transforms as transforms\n",
        "from tqdm import tqdm\n",
        "from torchvision.utils import save_image"
      ],
      "execution_count": null,
      "outputs": []
    },
    {
      "cell_type": "code",
      "metadata": {
        "colab": {
          "base_uri": "https://localhost:8080/"
        },
        "id": "qB_tJWm6Q6I4",
        "outputId": "dd95c269-ce04-431e-bd79-73b3f6ec2c05"
      },
      "source": [
        "n_epochs = 3\n",
        "batch_size_train = 60000\n",
        "batch_size_test = 10000\n",
        "learning_rate = 0.01\n",
        "momentum = 0.5\n",
        "log_interval = 10\n",
        "\n",
        "random_seed = 1\n",
        "torch.backends.cudnn.enabled = False\n",
        "torch.manual_seed(random_seed)"
      ],
      "execution_count": null,
      "outputs": [
        {
          "output_type": "execute_result",
          "data": {
            "text/plain": [
              "<torch._C.Generator at 0x7fe8d18c3610>"
            ]
          },
          "metadata": {},
          "execution_count": 4
        }
      ]
    },
    {
      "cell_type": "code",
      "metadata": {
        "id": "7EXVvryvcaoG"
      },
      "source": [
        "train_loader = torch.utils.data.DataLoader(\n",
        "  torchvision.datasets.MNIST('/files/', train=True, download=True,\n",
        "                             transform=torchvision.transforms.Compose([\n",
        "                               torchvision.transforms.ToTensor()\n",
        "                             ])),\n",
        "  batch_size=batch_size_train, shuffle=True)\n",
        "\n",
        "test_loader = torch.utils.data.DataLoader(\n",
        "  torchvision.datasets.MNIST('/files/', train=False, download=True,\n",
        "                             transform=torchvision.transforms.Compose([\n",
        "                               torchvision.transforms.ToTensor(),\n",
        "                               torchvision.transforms.Normalize(\n",
        "                                 (0.1307,), (0.3081,))\n",
        "                             ])),\n",
        "  batch_size=batch_size_test, shuffle=True)"
      ],
      "execution_count": null,
      "outputs": []
    },
    {
      "cell_type": "code",
      "metadata": {
        "colab": {
          "base_uri": "https://localhost:8080/"
        },
        "id": "nvjDorFyVuIR",
        "outputId": "53fc69eb-1262-45f0-81d4-a49c20254da1"
      },
      "source": [
        "examples = enumerate(test_loader)\n",
        "batch_idx, (example_data, example_targets) = next(examples)\n",
        "# example_data.shape, example_targets\n",
        "test_data = torch.flatten(example_data, start_dim=1)\n",
        "test_data.shape"
      ],
      "execution_count": null,
      "outputs": [
        {
          "output_type": "execute_result",
          "data": {
            "text/plain": [
              "torch.Size([10000, 784])"
            ]
          },
          "metadata": {},
          "execution_count": 6
        }
      ]
    },
    {
      "cell_type": "code",
      "metadata": {
        "colab": {
          "base_uri": "https://localhost:8080/"
        },
        "id": "62uTL4DfGspL",
        "outputId": "2fa6620f-f028-41ea-ea4a-b8c3b0ed797d"
      },
      "source": [
        "examples = enumerate(train_loader)\n",
        "batch_idx, (example_data, example_targets) = next(examples)\n",
        "# example_data.shape, example_targets\n",
        "train_data = torch.flatten(example_data, start_dim=1)\n",
        "train_data.shape"
      ],
      "execution_count": null,
      "outputs": [
        {
          "output_type": "execute_result",
          "data": {
            "text/plain": [
              "torch.Size([60000, 784])"
            ]
          },
          "metadata": {},
          "execution_count": 59
        }
      ]
    },
    {
      "cell_type": "code",
      "metadata": {
        "colab": {
          "base_uri": "https://localhost:8080/",
          "height": 551
        },
        "id": "SfuEjXuYV16k",
        "outputId": "d436566b-8d2a-4a88-ad1c-67d2d58591c6"
      },
      "source": [
        "import matplotlib.pyplot as plt\n",
        "\n",
        "fig = plt.figure()\n",
        "for i in range(9):\n",
        "  plt.subplot(3,3,i+1)\n",
        "  plt.tight_layout()\n",
        "  plt.imshow(example_data[i][0], cmap='gray', interpolation='none')\n",
        "  plt.title(\"Ground Truth: {}\".format(example_targets[i]))\n",
        "  plt.xticks([])\n",
        "  plt.yticks([])\n",
        "fig"
      ],
      "execution_count": null,
      "outputs": [
        {
          "output_type": "execute_result",
          "data": {
            "image/png": "[encoded data removed]",
            "text/plain": [
              "<Figure size 432x288 with 9 Axes>"
            ]
          },
          "metadata": {},
          "execution_count": 60
        },
        {
          "output_type": "display_data",
          "data": {
            "image/png": "[encoded data removed]",
            "text/plain": [
              "<Figure size 432x288 with 9 Axes>"
            ]
          },
          "metadata": {}
        }
      ]
    },
    {
      "cell_type": "code",
      "metadata": {
        "id": "AxJhuPRnV9cd"
      },
      "source": [
        "import torch.nn as nn # submodule for neural network building blocks\n",
        "\n",
        "class AutoEncoder(nn.Module):\n",
        "    \"\"\"\n",
        "    AutoEncoder with fully connected layers.\n",
        "\n",
        "    ----------\n",
        "    input_shape\n",
        "      shape of the input data\n",
        "    latent_dim\n",
        "      size of the latent dimension\n",
        "    \"\"\"\n",
        "    def __init__(self, input_shape, latent_dim = 128):\n",
        "      super().__init__()\n",
        "      # five fully connected layers for encoder (input_shape -> latent_dim)\n",
        "      offset = (input_shape - latent_dim) // 5\n",
        "      self.encoder_l1 = nn.Linear(in_features=input_shape, out_features= input_shape // 2)\n",
        "      self.encoder_l2 = nn.Linear(in_features=input_shape // 2 , out_features = input_shape // 4)\n",
        "      self.encoder_l3 = nn.Linear(in_features=input_shape // 4 , out_features=input_shape // 8)\n",
        "      self.encoder_l4 = nn.Linear(in_features=input_shape // 8 , out_features=input_shape // 16)\n",
        "      self.encoder_l5 = nn.Linear(in_features=input_shape // 16 , out_features=input_shape //32)\n",
        "\n",
        "      # five fully connected layers for decoder (128 -> input_shape)\n",
        "      self.decoder_l1 = nn.Linear(in_features=input_shape // 32, out_features=input_shape // 16)\n",
        "      self.decoder_l2 = nn.Linear(in_features=input_shape // 16, out_features=input_shape // 8)\n",
        "      self.decoder_l3 = nn.Linear(in_features=input_shape // 8, out_features=input_shape // 4)\n",
        "      self.decoder_l4 = nn.Linear(in_features=input_shape // 4, out_features=input_shape // 2)\n",
        "      self.decoder_l5 = nn.Linear(in_features=input_shape // 2, out_features=input_shape)\n",
        "\n",
        "\n",
        "    def forward(self, x):\n",
        "\n",
        "      latent = self.run_encoder(x)\n",
        "      x_hat = self.run_decoder(latent)\n",
        "      return x_hat\n",
        "\n",
        "    def run_encoder(self, x):\n",
        "      # Runs encoder\n",
        "      output_1 = F.relu(self.encoder_l1(x)) # relu adds non linearity\n",
        "      output_2 = F.relu(self.encoder_l2(output_1))\n",
        "      output_3 = F.relu(self.encoder_l3(output_2))\n",
        "      output_4 = F.relu(self.encoder_l4(output_3))\n",
        "      latent = F.relu(self.encoder_l5(output_4)) # this our latent representation\n",
        "      return latent\n",
        "\n",
        "    def run_decoder(self, latent):\n",
        "      # Runs decoder\n",
        "      output_1 = F.relu(self.decoder_l1(latent))\n",
        "      output_2 = F.relu(self.decoder_l2(output_1))\n",
        "      output_3 = F.relu(self.decoder_l3(output_2))\n",
        "      output_4 = F.relu(self.decoder_l4(output_3))\n",
        "      x_hat = F.relu(self.decoder_l5(output_4)) # reconstructed images\n",
        "      return x_hat"
      ],
      "execution_count": null,
      "outputs": []
    },
    {
      "cell_type": "code",
      "metadata": {
        "colab": {
          "base_uri": "https://localhost:8080/"
        },
        "id": "eK0zpe2GX2zW",
        "outputId": "a6347dfd-37aa-4112-b783-174528472d96"
      },
      "source": [
        "\n",
        "# get the shape of our input data\n",
        "image_shape = train_data.shape[1]\n",
        "print(image_shape)\n",
        "\n",
        "# initialize AutoEncoder\n",
        "model = AutoEncoder(input_shape = image_shape)\n",
        "\n",
        "# move the model onto GPU\n",
        "model.cuda()\n",
        "\n",
        "model.train()"
      ],
      "execution_count": null,
      "outputs": [
        {
          "output_type": "stream",
          "name": "stdout",
          "text": [
            "784\n"
          ]
        },
        {
          "output_type": "execute_result",
          "data": {
            "text/plain": [
              "AutoEncoder(\n",
              "  (encoder_l1): Linear(in_features=784, out_features=392, bias=True)\n",
              "  (encoder_l2): Linear(in_features=392, out_features=196, bias=True)\n",
              "  (encoder_l3): Linear(in_features=196, out_features=98, bias=True)\n",
              "  (encoder_l4): Linear(in_features=98, out_features=49, bias=True)\n",
              "  (encoder_l5): Linear(in_features=49, out_features=24, bias=True)\n",
              "  (decoder_l1): Linear(in_features=24, out_features=49, bias=True)\n",
              "  (decoder_l2): Linear(in_features=49, out_features=98, bias=True)\n",
              "  (decoder_l3): Linear(in_features=98, out_features=196, bias=True)\n",
              "  (decoder_l4): Linear(in_features=196, out_features=392, bias=True)\n",
              "  (decoder_l5): Linear(in_features=392, out_features=784, bias=True)\n",
              ")"
            ]
          },
          "metadata": {},
          "execution_count": 72
        }
      ]
    },
    {
      "cell_type": "code",
      "metadata": {
        "colab": {
          "base_uri": "https://localhost:8080/"
        },
        "id": "bOxgJVqYYmlt",
        "outputId": "6207f6df-a5bd-47d6-993e-5409125445c4"
      },
      "source": [
        "# Training loop from:\n",
        "# https://medium.com/pytorch/implementing-an-autoencoder-in-pytorch-19baa22647d1\n",
        "\n",
        "import torch.optim as optim\n",
        "import random\n",
        "\n",
        "# make our training data loader\n",
        "\n",
        "train_loader = torch.utils.data.DataLoader(\n",
        "  torchvision.datasets.MNIST('/files/', train=True, download=True,\n",
        "                             transform=torchvision.transforms.Compose([\n",
        "                               torchvision.transforms.ToTensor(),\n",
        "                               torchvision.transforms.Normalize(\n",
        "                                 (0.1307,), (0.3081,)) ])),\n",
        "  batch_size=8000, shuffle=True)\n",
        "\n",
        "examples = enumerate(train_loader)\n",
        "batch_idx, (example_data, example_targets) = next(examples)\n",
        "\n",
        "train_data = torch.flatten(example_data, start_dim=1)\n",
        "\n",
        "\n",
        "# mean-squared error loss\n",
        "mse = nn.MSELoss()\n",
        "\n",
        "# create an optimizer object\n",
        "optimizer = optim.SGD(model.parameters(), lr=1e-2)\n",
        "\n",
        "n_epochs = 10\n",
        "\n",
        "\n",
        "\n",
        "for epoch in range(n_epochs):\n",
        "    loss = 0\n",
        "    training_data = []\n",
        "    temp = []\n",
        "    i = 0\n",
        "    j = 0\n",
        "    # random.shuffle(train_data)\n",
        "    for batch_features in train_data:\n",
        "        j += 1\n",
        "        if j == 1000:\n",
        "          training_data.append(temp)\n",
        "          temp = []\n",
        "          j = 1\n",
        "        temp.append(batch_features)\n",
        "\n",
        "\n",
        "    for i in range (8):\n",
        "        for batch_features in training_data[i]:\n",
        "            # put data onto GPU\n",
        "            batch_features = batch_features.cuda()\n",
        "\n",
        "            # reset the gradients back to zero\n",
        "            # PyTorch accumulates gradients on subsequent backward passes\n",
        "            optimizer.zero_grad()\n",
        "\n",
        "            # compute reconstructions\n",
        "            outputs = model(batch_features)\n",
        "\n",
        "            # compute training reconstruction loss\n",
        "            train_loss = mse(outputs, batch_features)\n",
        "\n",
        "            # compute accumulated gradients\n",
        "            train_loss.backward()\n",
        "\n",
        "            # perform parameter update based on current gradients\n",
        "            optimizer.step()\n",
        "\n",
        "            # add the mini-batch training loss to epoch loss\n",
        "            loss += train_loss.item()\n",
        "\n",
        "        # compute the epoch training loss\n",
        "\n",
        "        loss = loss / len(training_data[i])\n",
        "\n",
        "        if i %5 ==0:\n",
        "          # display the epoch training loss every 5 epochs\n",
        "          print(\"epoch : {}/{}, batch : {}/{}, loss = {:.6f}\".format(epoch + 1, n_epochs, i + 1, 20, loss))\n",
        "\n",
        "    print(\"epoch : {}/{}, loss = {:.6f}\".format(epoch + 1, n_epochs, loss))"
      ],
      "execution_count": null,
      "outputs": [
        {
          "output_type": "stream",
          "name": "stdout",
          "text": [
            "epoch : 1/10, batch : 1/20, loss = 0.972960\n",
            "epoch : 1/10, batch : 6/20, loss = 0.890000\n",
            "epoch : 1/10, loss = 0.889048\n",
            "epoch : 2/10, batch : 1/20, loss = 0.862136\n",
            "epoch : 2/10, batch : 6/20, loss = 0.878376\n",
            "epoch : 2/10, loss = 0.888360\n",
            "epoch : 3/10, batch : 1/20, loss = 0.861782\n",
            "epoch : 3/10, batch : 6/20, loss = 0.876873\n",
            "epoch : 3/10, loss = 0.884763\n",
            "epoch : 4/10, batch : 1/20, loss = 0.856516\n",
            "epoch : 4/10, batch : 6/20, loss = 0.849142\n",
            "epoch : 4/10, loss = 0.857445\n",
            "epoch : 5/10, batch : 1/20, loss = 0.834592\n",
            "epoch : 5/10, batch : 6/20, loss = 0.846059\n",
            "epoch : 5/10, loss = 0.853348\n",
            "epoch : 6/10, batch : 1/20, loss = 0.829527\n",
            "epoch : 6/10, batch : 6/20, loss = 0.838699\n",
            "epoch : 6/10, loss = 0.843477\n",
            "epoch : 7/10, batch : 1/20, loss = 0.821904\n",
            "epoch : 7/10, batch : 6/20, loss = 0.824869\n",
            "epoch : 7/10, loss = 0.827201\n",
            "epoch : 8/10, batch : 1/20, loss = 0.803289\n",
            "epoch : 8/10, batch : 6/20, loss = 0.800262\n",
            "epoch : 8/10, loss = 0.798456\n",
            "epoch : 9/10, batch : 1/20, loss = 0.780506\n",
            "epoch : 9/10, batch : 6/20, loss = 0.769349\n",
            "epoch : 9/10, loss = 0.774248\n",
            "epoch : 10/10, batch : 1/20, loss = 0.758579\n",
            "epoch : 10/10, batch : 6/20, loss = 0.757713\n",
            "epoch : 10/10, loss = 0.759136\n"
          ]
        }
      ]
    },
    {
      "cell_type": "code",
      "metadata": {
        "colab": {
          "base_uri": "https://localhost:8080/",
          "height": 282
        },
        "id": "R9-Ci5AtYzCb",
        "outputId": "46e1f6f7-fd81-4cf4-8975-06420b2a1dc6"
      },
      "source": [
        "# putting the model into eval() model\n",
        "model.eval()\n",
        "\n",
        "# visualizing the output of the train set\n",
        "image_idx = 15\n",
        "\n",
        "image = test_data[image_idx].cuda()\n",
        "x_hat = model(image)\n",
        "x_hat = x_hat.detach().cpu().numpy().reshape((28,28))\n",
        "x_hat = np.around(x_hat)\n",
        "\n",
        "plt.imshow(x_hat, cmap='gray') # reconstructed image"
      ],
      "execution_count": null,
      "outputs": [
        {
          "output_type": "execute_result",
          "data": {
            "text/plain": [
              "<matplotlib.image.AxesImage at 0x7fe88114f950>"
            ]
          },
          "metadata": {},
          "execution_count": 80
        },
        {
          "output_type": "display_data",
          "data": {
            "image/png": "[encoded data removed]",
            "text/plain": [
              "<Figure size 432x288 with 1 Axes>"
            ]
          },
          "metadata": {
            "needs_background": "light"
          }
        }
      ]
    },
    {
      "cell_type": "code",
      "metadata": {
        "colab": {
          "base_uri": "https://localhost:8080/",
          "height": 282
        },
        "id": "q3Gxxb07zJwJ",
        "outputId": "9310adcc-a33f-4012-eac4-42c825c43cd1"
      },
      "source": [
        "plt.imshow(image.cpu().reshape((28,28)), cmap='gray') # original input image"
      ],
      "execution_count": null,
      "outputs": [
        {
          "output_type": "execute_result",
          "data": {
            "text/plain": [
              "<matplotlib.image.AxesImage at 0x7fe880f77d10>"
            ]
          },
          "metadata": {},
          "execution_count": 81
        },
        {
          "output_type": "display_data",
          "data": {
            "image/png": "[encoded data removed]",
            "text/plain": [
              "<Figure size 432x288 with 1 Axes>"
            ]
          },
          "metadata": {
            "needs_background": "light"
          }
        }
      ]
    },
    {
      "cell_type": "code",
      "metadata": {
        "colab": {
          "base_uri": "https://localhost:8080/",
          "height": 282
        },
        "id": "jQUHzgUIZGYA",
        "outputId": "bc2ab4e1-74a0-49bf-ce47-dfaa02876b44"
      },
      "source": [
        "# Visualizing test images\n",
        "image_idx = 110\n",
        "\n",
        "image = test_data[image_idx].cuda()\n",
        "x_hat = model(image)\n",
        "x_hat = x_hat.detach().cpu().numpy().reshape((28,28))\n",
        "x_hat = np.around(x_hat)\n",
        "\n",
        "plt.imshow(x_hat, cmap='gray')"
      ],
      "execution_count": null,
      "outputs": [
        {
          "output_type": "execute_result",
          "data": {
            "text/plain": [
              "<matplotlib.image.AxesImage at 0x7f8409faac90>"
            ]
          },
          "metadata": {},
          "execution_count": 40
        },
        {
          "output_type": "display_data",
          "data": {
            "image/png": "[encoded data removed]",
            "text/plain": [
              "<Figure size 432x288 with 1 Axes>"
            ]
          },
          "metadata": {
            "needs_background": "light"
          }
        }
      ]
    },
    {
      "cell_type": "code",
      "metadata": {
        "colab": {
          "base_uri": "https://localhost:8080/",
          "height": 282
        },
        "id": "-fW8vUNxzCu4",
        "outputId": "fa6b8aea-cf21-4274-aa04-53f95fa71914"
      },
      "source": [
        "plt.imshow(image.cpu().reshape((28,28)), cmap='gray') # ground truth test image"
      ],
      "execution_count": null,
      "outputs": [
        {
          "output_type": "execute_result",
          "data": {
            "text/plain": [
              "<matplotlib.image.AxesImage at 0x7f8409f13c10>"
            ]
          },
          "metadata": {},
          "execution_count": 41
        },
        {
          "output_type": "display_data",
          "data": {
            "image/png": "[encoded data removed]",
            "text/plain": [
              "<Figure size 432x288 with 1 Axes>"
            ]
          },
          "metadata": {
            "needs_background": "light"
          }
        }
      ]
    },
    {
      "cell_type": "code",
      "metadata": {
        "colab": {
          "base_uri": "https://localhost:8080/"
        },
        "id": "Ib7XfPDmzHxq",
        "outputId": "07b6b04e-3f6e-4d12-d938-74b9f91fdecd"
      },
      "source": [
        "test_reconstructed = []\n",
        "test = []\n",
        "\n",
        "for data in test_data:\n",
        "  image = data.cuda()\n",
        "  test.append(image)\n",
        "  x_hat = model(image)\n",
        "  x_hat = x_hat.cuda()\n",
        "  test_reconstructed.append(x_hat)\n",
        "\n",
        "print(len(test_reconstructed))"
      ],
      "execution_count": null,
      "outputs": [
        {
          "output_type": "stream",
          "name": "stdout",
          "text": [
            "10000\n"
          ]
        }
      ]
    },
    {
      "cell_type": "code",
      "metadata": {
        "colab": {
          "base_uri": "https://localhost:8080/"
        },
        "id": "6dYpCgXq1s_4",
        "outputId": "4cbac036-75ec-4e85-8747-74bd5016de1f"
      },
      "source": [
        "accumulated_score = 0\n",
        "for i in range(len(test)):\n",
        "  score = mse(test[i], test_reconstructed[i])\n",
        "  accumulated_score += score\n",
        "\n",
        "accumulated_score = accumulated_score / 10000\n",
        "\n",
        "print(score)"
      ],
      "execution_count": null,
      "outputs": [
        {
          "output_type": "stream",
          "name": "stdout",
          "text": [
            "tensor(0.8404, device='cuda:0', grad_fn=<MseLossBackward>)\n"
          ]
        }
      ]
    },
    {
      "cell_type": "code",
      "metadata": {
        "id": "csuKud4c3OcI"
      },
      "source": [],
      "execution_count": null,
      "outputs": []
    }
  ]
}